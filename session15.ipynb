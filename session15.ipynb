{
 "cells": [
  {
   "cell_type": "markdown",
   "source": [
    "Branching (if/elif/else)"
   ],
   "metadata": {}
  },
  {
   "cell_type": "code",
   "execution_count": 10,
   "source": [
    "\"\"\"\n",
    "    write a program to print week day accordingly\n",
    "    if week_no is give for eg.,\n",
    "    week_no is 1 means print \"Monday\"\n",
    "               2 means print \"Tuesday\"\n",
    "               .....\n",
    "               6 means print \"Saturday\"\n",
    "               7 means print \"Sunday\"\n",
    "    anything else .... print \"Not a valid....\"\n",
    "    we have to test all the scenarios to check or validate our code\n",
    "\"\"\""
   ],
   "outputs": [
    {
     "output_type": "execute_result",
     "data": {
      "text/plain": [
       "'\\n    write a program to print week day accordingly\\n    if week_no is give for eg.,\\n    week_no is 1 means print \"Monday\"\\n               2 means print \"Tuesday\"\\n               .....\\n               6 means print \"Saturday\"\\n               7 means print \"Sunday\"\\n    anything else .... print \"Not a valid....\"\\n    we have to test all the scenarios to check or validate our code\\n'"
      ]
     },
     "metadata": {},
     "execution_count": 10
    }
   ],
   "metadata": {}
  },
  {
   "cell_type": "code",
   "execution_count": 11,
   "source": [
    "week = -1"
   ],
   "outputs": [],
   "metadata": {}
  },
  {
   "cell_type": "code",
   "execution_count": 13,
   "source": [
    "if week == 1:\n",
    "    print(\"Today is Monday\")\n",
    "elif week == 2:\n",
    "    print(\"Today is Tuesday\")\n",
    "elif week == 3:\n",
    "    print(\"Today is Wednesday\")\n",
    "elif week == 4:\n",
    "    print(\"Today is Thursday\")\n",
    "elif week == 5:\n",
    "    print(\"Today is Friday\")\n",
    "elif week == 6:\n",
    "    print(\"Today is Satday\")\n",
    "elif week == 7:\n",
    "    print(\"Today is Sunday\")\n",
    "else:\n",
    "    print(\"Not a valid day number\")"
   ],
   "outputs": [
    {
     "output_type": "stream",
     "name": "stdout",
     "text": [
      "Not a valid day number\n"
     ]
    }
   ],
   "metadata": {}
  },
  {
   "cell_type": "code",
   "execution_count": 14,
   "source": [
    "#homework\n",
    "\"\"\"\n",
    "    write a program to print month accordingly\n",
    "    if month is give for eg.,\n",
    "    month is 1 means print \"Jan\"\n",
    "               2 means print \"Feb\"\n",
    "               .....\n",
    "               11 means print \"Nov\"\n",
    "               12 means print \"dec\"\n",
    "    anything else .... print \"Not a valid....\"\n",
    "    we have to test all the scenarios to check or validate our code\n",
    "\"\"\"\n"
   ],
   "outputs": [
    {
     "output_type": "execute_result",
     "data": {
      "text/plain": [
       "'\\n    write a program to print month accordingly\\n    if month is give for eg.,\\n    month is 1 means print \"Jan\"\\n               2 means print \"Feb\"\\n               .....\\n               11 means print \"Nov\"\\n               12 means print \"dec\"\\n    anything else .... print \"Not a valid....\"\\n    we have to test all the scenarios to check or validate our code\\n'"
      ]
     },
     "metadata": {},
     "execution_count": 14
    }
   ],
   "metadata": {}
  },
  {
   "cell_type": "code",
   "execution_count": 15,
   "source": [
    "l = [2,3,5,7,9,10,15,12,4,3,6,7,\"Rohanth\", \"Varun\", \"Parthiv\"]"
   ],
   "outputs": [],
   "metadata": {}
  },
  {
   "cell_type": "code",
   "execution_count": 20,
   "source": [
    "for i in range(len(l)-1,2,-1)   :\n",
    "    print (l[i])"
   ],
   "outputs": [
    {
     "output_type": "stream",
     "name": "stdout",
     "text": [
      "Parthiv\n",
      "Varun\n",
      "Rohanth\n",
      "7\n",
      "6\n",
      "3\n",
      "4\n",
      "12\n",
      "15\n",
      "10\n",
      "9\n",
      "7\n"
     ]
    }
   ],
   "metadata": {}
  },
  {
   "cell_type": "code",
   "execution_count": 21,
   "source": [
    "s = []"
   ],
   "outputs": [],
   "metadata": {}
  },
  {
   "cell_type": "code",
   "execution_count": 23,
   "source": [],
   "outputs": [
    {
     "output_type": "stream",
     "name": "stdout",
     "text": [
      "['Rohanth', 'Varun', 'Parthiv', 'Rohanth', 'Varun', 'Parthiv']\n"
     ]
    }
   ],
   "metadata": {}
  },
  {
   "cell_type": "code",
   "execution_count": 24,
   "source": [
    "strings = []"
   ],
   "outputs": [],
   "metadata": {}
  },
  {
   "cell_type": "code",
   "execution_count": 29,
   "source": [
    "floats = []"
   ],
   "outputs": [],
   "metadata": {}
  },
  {
   "cell_type": "code",
   "execution_count": 26,
   "source": [
    "ints = []"
   ],
   "outputs": [],
   "metadata": {}
  },
  {
   "cell_type": "code",
   "execution_count": 27,
   "source": [
    "booleans = []"
   ],
   "outputs": [],
   "metadata": {}
  },
  {
   "cell_type": "code",
   "execution_count": 45,
   "source": [
    "b = [2,3,4,5,7,9,10,13,12,4,3,6,7,23,1.5,2.5,3.5,4.5,5.5, True, False, \"Rohanth\", \"Varun\",  \"Prathiv\", 1+4j]"
   ],
   "outputs": [],
   "metadata": {}
  },
  {
   "cell_type": "code",
   "execution_count": 46,
   "source": [
    "for i in b:\n",
    "    if type(i) == str:\n",
    "        strings.append(i)\n",
    "    elif type(i) == int:\n",
    "        ints.append(i)\n",
    "    elif type(i) == float:\n",
    "        floats.append(i)\n",
    "    elif type(i) == bool:\n",
    "        booleans.append(i)"
   ],
   "outputs": [],
   "metadata": {}
  },
  {
   "cell_type": "code",
   "execution_count": 47,
   "source": [
    "strings"
   ],
   "outputs": [
    {
     "output_type": "execute_result",
     "data": {
      "text/plain": [
       "['Rohanth',\n",
       " 'Varun',\n",
       " 'Parthiv',\n",
       " 'Rohanth',\n",
       " 'Varun',\n",
       " 'Parthiv',\n",
       " 'Rohanth',\n",
       " 'Varun',\n",
       " 'Parthiv',\n",
       " 'Rohanth',\n",
       " 'Varun',\n",
       " 'Prathiv',\n",
       " 'Rohanth',\n",
       " 'Varun',\n",
       " 'Prathiv']"
      ]
     },
     "metadata": {},
     "execution_count": 47
    }
   ],
   "metadata": {}
  },
  {
   "cell_type": "code",
   "execution_count": 48,
   "source": [
    "floats"
   ],
   "outputs": [
    {
     "output_type": "execute_result",
     "data": {
      "text/plain": [
       "[]"
      ]
     },
     "metadata": {},
     "execution_count": 48
    }
   ],
   "metadata": {}
  },
  {
   "cell_type": "code",
   "execution_count": 38,
   "source": [
    "ints"
   ],
   "outputs": [
    {
     "output_type": "execute_result",
     "data": {
      "text/plain": [
       "[2, 3, 5, 7, 9, 10, 15, 12, 4, 3, 6, 7, 2, 3, 5, 7, 9, 10, 15, 12, 4, 3, 6, 7]"
      ]
     },
     "metadata": {},
     "execution_count": 38
    }
   ],
   "metadata": {}
  },
  {
   "cell_type": "code",
   "execution_count": 49,
   "source": [
    "booleans"
   ],
   "outputs": [
    {
     "output_type": "execute_result",
     "data": {
      "text/plain": [
       "[True, False, True, False]"
      ]
     },
     "metadata": {},
     "execution_count": 49
    }
   ],
   "metadata": {}
  },
  {
   "cell_type": "code",
   "execution_count": 76,
   "source": [
    "i = '10'"
   ],
   "outputs": [],
   "metadata": {}
  },
  {
   "cell_type": "code",
   "execution_count": 77,
   "source": [
    "if i < 10:\n",
    "    print('yep it is less than ten')\n",
    "elif i ==10:\n",
    "    print('yep it is equal to ten')\n",
    "    if type(i) == int:\n",
    "        print('this data type is int')\n",
    "    elif type(i) == str:\n",
    "        print(\"this dype is int\")\n",
    "    else:\n",
    "        print(\"none of the data types match\")\n",
    "elif i > 10:\n",
    "    print('yes it is greater than ten')\n",
    "else:\n",
    "    print('none of the above')"
   ],
   "outputs": [
    {
     "output_type": "error",
     "ename": "TypeError",
     "evalue": "'<' not supported between instances of 'str' and 'int'",
     "traceback": [
      "\u001b[0;31m---------------------------------------------------------------------------\u001b[0m",
      "\u001b[0;31mTypeError\u001b[0m                                 Traceback (most recent call last)",
      "\u001b[0;32m/var/folders/n3/5jh6h7bj2b5_jwdvtd6v6rzw0000gn/T/ipykernel_71734/1829862814.py\u001b[0m in \u001b[0;36m<module>\u001b[0;34m\u001b[0m\n\u001b[0;32m----> 1\u001b[0;31m \u001b[0;32mif\u001b[0m \u001b[0mi\u001b[0m \u001b[0;34m<\u001b[0m \u001b[0;36m10\u001b[0m\u001b[0;34m:\u001b[0m\u001b[0;34m\u001b[0m\u001b[0;34m\u001b[0m\u001b[0m\n\u001b[0m\u001b[1;32m      2\u001b[0m     \u001b[0mprint\u001b[0m\u001b[0;34m(\u001b[0m\u001b[0;34m'yep it is less than ten'\u001b[0m\u001b[0;34m)\u001b[0m\u001b[0;34m\u001b[0m\u001b[0;34m\u001b[0m\u001b[0m\n\u001b[1;32m      3\u001b[0m \u001b[0;32melif\u001b[0m \u001b[0mi\u001b[0m \u001b[0;34m==\u001b[0m\u001b[0;36m10\u001b[0m\u001b[0;34m:\u001b[0m\u001b[0;34m\u001b[0m\u001b[0;34m\u001b[0m\u001b[0m\n\u001b[1;32m      4\u001b[0m     \u001b[0mprint\u001b[0m\u001b[0;34m(\u001b[0m\u001b[0;34m'yep it is equal to ten'\u001b[0m\u001b[0;34m)\u001b[0m\u001b[0;34m\u001b[0m\u001b[0;34m\u001b[0m\u001b[0m\n\u001b[1;32m      5\u001b[0m     \u001b[0;32mif\u001b[0m \u001b[0mtype\u001b[0m\u001b[0;34m(\u001b[0m\u001b[0mi\u001b[0m\u001b[0;34m)\u001b[0m \u001b[0;34m==\u001b[0m \u001b[0mint\u001b[0m\u001b[0;34m:\u001b[0m\u001b[0;34m\u001b[0m\u001b[0;34m\u001b[0m\u001b[0m\n",
      "\u001b[0;31mTypeError\u001b[0m: '<' not supported between instances of 'str' and 'int'"
     ]
    }
   ],
   "metadata": {}
  },
  {
   "cell_type": "code",
   "execution_count": null,
   "source": [],
   "outputs": [],
   "metadata": {}
  }
 ],
 "metadata": {
  "orig_nbformat": 4,
  "language_info": {
   "name": "python",
   "version": "3.9.6",
   "mimetype": "text/x-python",
   "codemirror_mode": {
    "name": "ipython",
    "version": 3
   },
   "pygments_lexer": "ipython3",
   "nbconvert_exporter": "python",
   "file_extension": ".py"
  },
  "kernelspec": {
   "name": "python3",
   "display_name": "Python 3.9.6 64-bit"
  },
  "interpreter": {
   "hash": "aee8b7b246df8f9039afb4144a1f6fd8d2ca17a180786b69acc140d282b71a49"
  }
 },
 "nbformat": 4,
 "nbformat_minor": 2
}