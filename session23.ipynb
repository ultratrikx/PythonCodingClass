{
 "cells": [
  {
   "cell_type": "code",
   "execution_count": 4,
   "source": [
    "d = {\n",
    "    'key1': [1,2,3,4,5],\n",
    "    'key2': (11,22,33,44,55),\n",
    "    'key3': {6,6,6,6,6,6,7,7,7,7,7,7,7,8,8,8,8,8,8,9,10,8,8,8,8,8,9,9,9,9,9,10,10,6,6,6},\n",
    "    'key4': {\n",
    "        'name': ['Rish', 'Raghav', 'Varshita', 'Rohanth', 'Dharika', 'Thanvika', 'Medhansh'],\n",
    "        'age': [13,12,12,13,15,11,12],\n",
    "        'id': [1,2,3,4,5,6,7]\n",
    "    }\n",
    "}"
   ],
   "outputs": [],
   "metadata": {}
  },
  {
   "cell_type": "code",
   "execution_count": 5,
   "source": [
    "d"
   ],
   "outputs": [
    {
     "output_type": "execute_result",
     "data": {
      "text/plain": [
       "{'key1': [1, 2, 3, 4, 5],\n",
       " 'key2': (11, 22, 33, 44, 55),\n",
       " 'key3': {6, 7, 8, 9, 10},\n",
       " 'key4': {'name': ['Rish',\n",
       "   'Raghav',\n",
       "   'Varshita',\n",
       "   'Rohanth',\n",
       "   'Dharika',\n",
       "   'Thanvika',\n",
       "   'Medhansh'],\n",
       "  'age': [13, 12, 12, 13, 15, 11, 12],\n",
       "  'id': [1, 2, 3, 4, 5, 6, 7]}}"
      ]
     },
     "metadata": {},
     "execution_count": 5
    }
   ],
   "metadata": {}
  },
  {
   "cell_type": "code",
   "execution_count": 12,
   "source": [
    "for i in d.values():\n",
    "    print(i)"
   ],
   "outputs": [
    {
     "output_type": "stream",
     "name": "stdout",
     "text": [
      "[1, 2, 3, 4, 5]\n",
      "(11, 22, 33, 44, 55)\n",
      "{6, 7, 8, 9, 10}\n",
      "{'name': ['Rish', 'Raghav', 'Varshita', 'Rohanth', 'Dharika', 'Thanvika', 'Medhansh'], 'age': [13, 12, 12, 13, 15, 11, 12], 'id': [1, 2, 3, 4, 5, 6, 7]}\n"
     ]
    }
   ],
   "metadata": {}
  },
  {
   "cell_type": "code",
   "execution_count": 8,
   "source": [
    "d['key4']['name'][-1]"
   ],
   "outputs": [
    {
     "output_type": "execute_result",
     "data": {
      "text/plain": [
       "'Medhansh'"
      ]
     },
     "metadata": {},
     "execution_count": 8
    }
   ],
   "metadata": {}
  },
  {
   "cell_type": "code",
   "execution_count": 13,
   "source": [
    "for i in d.keys():\n",
    "    print(d[i])"
   ],
   "outputs": [
    {
     "output_type": "stream",
     "name": "stdout",
     "text": [
      "[1, 2, 3, 4, 5]\n",
      "(11, 22, 33, 44, 55)\n",
      "{6, 7, 8, 9, 10}\n",
      "{'name': ['Rish', 'Raghav', 'Varshita', 'Rohanth', 'Dharika', 'Thanvika', 'Medhansh'], 'age': [13, 12, 12, 13, 15, 11, 12], 'id': [1, 2, 3, 4, 5, 6, 7]}\n"
     ]
    }
   ],
   "metadata": {}
  },
  {
   "cell_type": "code",
   "execution_count": 14,
   "source": [
    "l = [1,2,3,4,5]\n",
    "for i in l:\n",
    "    print(l)"
   ],
   "outputs": [
    {
     "output_type": "stream",
     "name": "stdout",
     "text": [
      "[1, 2, 3, 4, 5]\n",
      "[1, 2, 3, 4, 5]\n",
      "[1, 2, 3, 4, 5]\n",
      "[1, 2, 3, 4, 5]\n",
      "[1, 2, 3, 4, 5]\n"
     ]
    }
   ],
   "metadata": {}
  },
  {
   "cell_type": "code",
   "execution_count": 15,
   "source": [
    "d"
   ],
   "outputs": [
    {
     "output_type": "execute_result",
     "data": {
      "text/plain": [
       "{'key1': [1, 2, 3, 4, 5],\n",
       " 'key2': (11, 22, 33, 44, 55),\n",
       " 'key3': {6, 7, 8, 9, 10},\n",
       " 'key4': {'name': ['Rish',\n",
       "   'Raghav',\n",
       "   'Varshita',\n",
       "   'Rohanth',\n",
       "   'Dharika',\n",
       "   'Thanvika',\n",
       "   'Medhansh'],\n",
       "  'age': [13, 12, 12, 13, 15, 11, 12],\n",
       "  'id': [1, 2, 3, 4, 5, 6, 7]}}"
      ]
     },
     "metadata": {},
     "execution_count": 15
    }
   ],
   "metadata": {}
  },
  {
   "cell_type": "code",
   "execution_count": 20,
   "source": [
    "m = []\n",
    "for i in d['key4'].values():\n",
    "    if type(i) ==  list:\n",
    "        for j in i:\n",
    "            m.append(j)\n",
    "\n",
    "print(m)"
   ],
   "outputs": [
    {
     "output_type": "stream",
     "name": "stdout",
     "text": [
      "['Rish', 'Raghav', 'Varshita', 'Rohanth', 'Dharika', 'Thanvika', 'Medhansh', 13, 12, 12, 13, 15, 11, 12, 1, 2, 3, 4, 5, 6, 7]\n"
     ]
    }
   ],
   "metadata": {}
  },
  {
   "cell_type": "markdown",
   "source": [
    "#Object Oriented Programming"
   ],
   "metadata": {}
  },
  {
   "cell_type": "code",
   "execution_count": 22,
   "source": [
    "print(l,'\\n', type(l))"
   ],
   "outputs": [
    {
     "output_type": "stream",
     "name": "stdout",
     "text": [
      "[1, 2, 3, 4, 5] \n",
      " <class 'list'>\n"
     ]
    }
   ],
   "metadata": {}
  },
  {
   "cell_type": "code",
   "execution_count": 25,
   "source": [
    "def greetings(name):\n",
    "    print(name)"
   ],
   "outputs": [],
   "metadata": {}
  },
  {
   "cell_type": "code",
   "execution_count": 26,
   "source": [
    "greetings(\"Raghav\")\n",
    "greetings(\"Dharika\")\n",
    "greetings(\"Rohanth\")"
   ],
   "outputs": [
    {
     "output_type": "stream",
     "name": "stdout",
     "text": [
      "Raghav\n",
      "Dharika\n",
      "Rohanth\n"
     ]
    }
   ],
   "metadata": {}
  },
  {
   "cell_type": "code",
   "execution_count": 27,
   "source": [
    "l.append(6)"
   ],
   "outputs": [],
   "metadata": {}
  },
  {
   "cell_type": "code",
   "execution_count": 28,
   "source": [
    "l"
   ],
   "outputs": [
    {
     "output_type": "execute_result",
     "data": {
      "text/plain": [
       "[1, 2, 3, 4, 5, 6]"
      ]
     },
     "metadata": {},
     "execution_count": 28
    }
   ],
   "metadata": {}
  },
  {
   "cell_type": "code",
   "execution_count": 29,
   "source": [
    "#pythong objects anf functions\n",
    "a = 10\n",
    "b = 12.5\n",
    "c = 1+2j\n"
   ],
   "outputs": [],
   "metadata": {}
  },
  {
   "cell_type": "code",
   "execution_count": 30,
   "source": [
    "print(type(a))\n",
    "print(type(b))\n",
    "print(type(c))\n"
   ],
   "outputs": [
    {
     "output_type": "stream",
     "name": "stdout",
     "text": [
      "<class 'int'>\n",
      "<class 'float'>\n",
      "<class 'complex'>\n"
     ]
    }
   ],
   "metadata": {}
  },
  {
   "cell_type": "code",
   "execution_count": 36,
   "source": [
    "c.real"
   ],
   "outputs": [
    {
     "output_type": "execute_result",
     "data": {
      "text/plain": [
       "1.0"
      ]
     },
     "metadata": {},
     "execution_count": 36
    }
   ],
   "metadata": {}
  },
  {
   "cell_type": "code",
   "execution_count": 37,
   "source": [
    "# class and objects\n",
    "def test():\n",
    "    pass"
   ],
   "outputs": [],
   "metadata": {}
  },
  {
   "cell_type": "code",
   "execution_count": 38,
   "source": [
    "class Person:\n",
    "    pass"
   ],
   "outputs": [],
   "metadata": {}
  },
  {
   "cell_type": "code",
   "execution_count": 39,
   "source": [
    "Person"
   ],
   "outputs": [
    {
     "output_type": "execute_result",
     "data": {
      "text/plain": [
       "__main__.Person"
      ]
     },
     "metadata": {},
     "execution_count": 39
    }
   ],
   "metadata": {}
  },
  {
   "cell_type": "code",
   "execution_count": 40,
   "source": [
    "test()"
   ],
   "outputs": [],
   "metadata": {}
  },
  {
   "cell_type": "code",
   "execution_count": 42,
   "source": [
    "print(type(Person()))"
   ],
   "outputs": [
    {
     "output_type": "stream",
     "name": "stdout",
     "text": [
      "<class '__main__.Person'>\n"
     ]
    }
   ],
   "metadata": {}
  },
  {
   "cell_type": "code",
   "execution_count": 43,
   "source": [
    "type(123)"
   ],
   "outputs": [
    {
     "output_type": "execute_result",
     "data": {
      "text/plain": [
       "int"
      ]
     },
     "metadata": {},
     "execution_count": 43
    }
   ],
   "metadata": {}
  },
  {
   "cell_type": "code",
   "execution_count": 46,
   "source": [
    "type(12.5)"
   ],
   "outputs": [
    {
     "output_type": "execute_result",
     "data": {
      "text/plain": [
       "float"
      ]
     },
     "metadata": {},
     "execution_count": 46
    }
   ],
   "metadata": {}
  },
  {
   "cell_type": "code",
   "execution_count": 47,
   "source": [
    "type(Person)"
   ],
   "outputs": [
    {
     "output_type": "execute_result",
     "data": {
      "text/plain": [
       "type"
      ]
     },
     "metadata": {},
     "execution_count": 47
    }
   ],
   "metadata": {}
  },
  {
   "cell_type": "code",
   "execution_count": 48,
   "source": [
    "p1 = Person()"
   ],
   "outputs": [],
   "metadata": {}
  },
  {
   "cell_type": "code",
   "execution_count": 49,
   "source": [
    "p1"
   ],
   "outputs": [
    {
     "output_type": "execute_result",
     "data": {
      "text/plain": [
       "<__main__.Person at 0x7f90fd5975b0>"
      ]
     },
     "metadata": {},
     "execution_count": 49
    }
   ],
   "metadata": {}
  },
  {
   "cell_type": "code",
   "execution_count": 50,
   "source": [
    "p2 = Person()\n",
    "p3 = Person()\n"
   ],
   "outputs": [],
   "metadata": {}
  },
  {
   "cell_type": "code",
   "execution_count": 54,
   "source": [
    "type(p3)"
   ],
   "outputs": [
    {
     "output_type": "execute_result",
     "data": {
      "text/plain": [
       "__main__.Person"
      ]
     },
     "metadata": {},
     "execution_count": 54
    }
   ],
   "metadata": {}
  },
  {
   "cell_type": "code",
   "execution_count": 55,
   "source": [
    "p1"
   ],
   "outputs": [
    {
     "output_type": "execute_result",
     "data": {
      "text/plain": [
       "<__main__.Person at 0x7f90fd5975b0>"
      ]
     },
     "metadata": {},
     "execution_count": 55
    }
   ],
   "metadata": {}
  },
  {
   "cell_type": "code",
   "execution_count": 56,
   "source": [
    "p2"
   ],
   "outputs": [
    {
     "output_type": "execute_result",
     "data": {
      "text/plain": [
       "<__main__.Person at 0x7f90fd597640>"
      ]
     },
     "metadata": {},
     "execution_count": 56
    }
   ],
   "metadata": {}
  },
  {
   "cell_type": "code",
   "execution_count": 57,
   "source": [
    "p3"
   ],
   "outputs": [
    {
     "output_type": "execute_result",
     "data": {
      "text/plain": [
       "<__main__.Person at 0x7f90fd5977c0>"
      ]
     },
     "metadata": {},
     "execution_count": 57
    }
   ],
   "metadata": {}
  },
  {
   "cell_type": "code",
   "execution_count": 58,
   "source": [
    "p1.fname = \"Raghav\"\n",
    "p1.lname = \"Singh\"\n",
    "p1.age = 12\n",
    "\n",
    "p2.fname = \"Rohanth\"\n",
    "p2.lname = \"Marem\"\n",
    "p2.age = 13\n",
    "\n",
    "p3.fname = \"Rish\"\n",
    "p3.lname = \"Angalakuditi\"\n",
    "p3.age = 13\n"
   ],
   "outputs": [],
   "metadata": {}
  },
  {
   "cell_type": "code",
   "execution_count": 62,
   "source": [
    "print(p1.fname, p1.lname, p1.age)\n",
    "print(p2.fname, p2.lname, p2.age)\n",
    "print(p3.fname, p3.lname, p3.age)\n"
   ],
   "outputs": [
    {
     "output_type": "stream",
     "name": "stdout",
     "text": [
      "Raghav Singh 12\n",
      "Rohanth Marem 13\n",
      "Rish Angalakuditi 13\n"
     ]
    }
   ],
   "metadata": {}
  },
  {
   "cell_type": "code",
   "execution_count": 63,
   "source": [
    "# this is not a better method\n",
    "\n",
    "class Person:\n",
    "    fname = \"Spiderman\"\n",
    "    lname = \"Hero\"\n",
    "    age = 30\n",
    "    "
   ],
   "outputs": [],
   "metadata": {}
  },
  {
   "cell_type": "code",
   "execution_count": 65,
   "source": [
    "p1 = Person()\n",
    "p2 = Person()\n",
    "p3 = Person()"
   ],
   "outputs": [],
   "metadata": {}
  },
  {
   "cell_type": "code",
   "execution_count": 67,
   "source": [
    "p1"
   ],
   "outputs": [
    {
     "output_type": "execute_result",
     "data": {
      "text/plain": [
       "<__main__.Person at 0x7f90fd5973d0>"
      ]
     },
     "metadata": {},
     "execution_count": 67
    }
   ],
   "metadata": {}
  },
  {
   "cell_type": "code",
   "execution_count": 68,
   "source": [
    "p2"
   ],
   "outputs": [
    {
     "output_type": "execute_result",
     "data": {
      "text/plain": [
       "<__main__.Person at 0x7f90fd598700>"
      ]
     },
     "metadata": {},
     "execution_count": 68
    }
   ],
   "metadata": {}
  },
  {
   "cell_type": "code",
   "execution_count": 69,
   "source": [
    "p3"
   ],
   "outputs": [
    {
     "output_type": "execute_result",
     "data": {
      "text/plain": [
       "<__main__.Person at 0x7f90fd598a60>"
      ]
     },
     "metadata": {},
     "execution_count": 69
    }
   ],
   "metadata": {}
  },
  {
   "cell_type": "code",
   "execution_count": 74,
   "source": [
    "print(p1.fname, p1.lname, p1.age)\n",
    "print(p2.fname, p2.lname, p2.age)\n",
    "print(p3.fname, p3.lname, p3.age)\n"
   ],
   "outputs": [
    {
     "output_type": "stream",
     "name": "stdout",
     "text": [
      "Spiderman Hero 30\n",
      "Spiderman Hero 30\n",
      "Spiderman Hero 30\n"
     ]
    }
   ],
   "metadata": {}
  },
  {
   "cell_type": "code",
   "execution_count": 80,
   "source": [
    "class Person:\n",
    "    def __init__(self, fname, lname, age):\n",
    "        self.fname = fname\n",
    "        self.lname = lname\n",
    "        self.age = age\n",
    "    def myfunc(self):\n",
    "        print(\"First Name:\", self.fname)\n",
    "        print(\"Last Name:\", self.lname)\n",
    "        print(\"Age:\", self.age)\n"
   ],
   "outputs": [],
   "metadata": {}
  },
  {
   "cell_type": "code",
   "execution_count": 91,
   "source": [
    "Names = [\"Raghav\", \"Medhansh\", \"Dharika\", \"Thanvika\", \"Rish\", \"Varshita\", \"Rohanth\"]\n",
    "lNames = [\"Singh\", \"Akula\", \"Modupalli\", \"Rayappeneni\", \"Angalakuditi\", \"\", \"Marem\"]\n",
    "Ages = [12,12,15,11,13,12,13]\n",
    "pNum = [p1, p2, p3, p4, p5, p6, p7]\n",
    "for i in pNum:\n",
    "    for j in Names:\n",
    "        for k in lNames:\n",
    "            for o in Ages:\n",
    "                i = Person(j, k, o)\n",
    "\n",
    "# p1 = Person(\"Raghav\", \"Singh\", 12)\n",
    "# p2 = Person(\"Medhansh\", \"Akula\", 12)\n",
    "# p3 = Person(\"Dharika\", \"Modupalli\", 15)\n",
    "# p4 = Person(\"Thanvika\", \"Rayappeneni\", 11)\n",
    "# p5 = Person(\"Rish\", \"Angalakuditi\", 13)\n",
    "# p6 = Person(\"Varhsita\", \"\", 12)\n",
    "# p7 = Person(\"Rohanth\", \"Marem\", 13)\n"
   ],
   "outputs": [],
   "metadata": {}
  },
  {
   "cell_type": "code",
   "execution_count": 92,
   "source": [
    "for i in pNum:\n",
    "    i.myfunc()"
   ],
   "outputs": [
    {
     "output_type": "stream",
     "name": "stdout",
     "text": [
      "First Name: Raghav\n",
      "Last Name: Singh\n",
      "Age: 12\n",
      "First Name: Medhansh\n",
      "Last Name: Akula\n",
      "Age: 12\n",
      "First Name: Dharika\n",
      "Last Name: Modupalli\n",
      "Age: 15\n",
      "First Name: Thanvika\n",
      "Last Name: Rayappeneni\n",
      "Age: 11\n",
      "First Name: Rish\n",
      "Last Name: Angalakuditi\n",
      "Age: 13\n",
      "First Name: Varhsita\n",
      "Last Name: \n",
      "Age: 12\n",
      "First Name: Rohanth\n",
      "Last Name: Marem\n",
      "Age: 13\n"
     ]
    }
   ],
   "metadata": {}
  },
  {
   "cell_type": "code",
   "execution_count": null,
   "source": [],
   "outputs": [],
   "metadata": {}
  }
 ],
 "metadata": {
  "orig_nbformat": 4,
  "language_info": {
   "name": "python",
   "version": "3.9.6",
   "mimetype": "text/x-python",
   "codemirror_mode": {
    "name": "ipython",
    "version": 3
   },
   "pygments_lexer": "ipython3",
   "nbconvert_exporter": "python",
   "file_extension": ".py"
  },
  "kernelspec": {
   "name": "python3",
   "display_name": "Python 3.9.6 64-bit"
  },
  "interpreter": {
   "hash": "aee8b7b246df8f9039afb4144a1f6fd8d2ca17a180786b69acc140d282b71a49"
  }
 },
 "nbformat": 4,
 "nbformat_minor": 2
}